{
  "nbformat": 4,
  "nbformat_minor": 0,
  "metadata": {
    "colab": {
      "provenance": []
    },
    "kernelspec": {
      "name": "python3",
      "display_name": "Python 3"
    },
    "language_info": {
      "name": "python"
    }
  },
  "cells": [
    {
      "cell_type": "markdown",
      "source": [
        "#Data Science Tools and Ecosystem\n"
      ],
      "metadata": {
        "id": "dT6Ij6dKePjS"
      }
    },
    {
      "cell_type": "markdown",
      "source": [
        "In this notebook, Data Science Tools and Ecosystem are summarized."
      ],
      "metadata": {
        "id": "FBtm-RVuevf1"
      }
    },
    {
      "cell_type": "markdown",
      "source": [
        "Some of the popular languages that Data Scientists use are\n",
        "1. Python\n",
        "2. R\n",
        "3. Java"
      ],
      "metadata": {
        "id": "ilqTuWr7e73g"
      }
    },
    {
      "cell_type": "markdown",
      "source": [
        "Some of the commonly used libraries used by Data Scientists include:\n",
        "1. pandas\n",
        "2. scikit-learn\n",
        "3. numpy"
      ],
      "metadata": {
        "id": "2xcCiXNKfD5J"
      }
    },
    {
      "cell_type": "markdown",
      "source": [
        "| Data Science Tools |\n",
        "|--------------------|\n",
        "| Apache Spark     |\n",
        "| Excel |\n",
        "| Jupyter Notebook |"
      ],
      "metadata": {
        "id": "0zBiPK0nfsR7"
      }
    },
    {
      "cell_type": "markdown",
      "source": [
        "### Below are a few examples of evaluating arithmetic expressions in Python"
      ],
      "metadata": {
        "id": "g1I_dV6agp92"
      }
    },
    {
      "cell_type": "code",
      "source": [
        "# This is a simple arithmetic expression to multiply then add integers\n",
        "(3*4)+5"
      ],
      "metadata": {
        "colab": {
          "base_uri": "https://localhost:8080/"
        },
        "id": "imeVuRFzg2mu",
        "outputId": "6f1b8f9b-1ff3-4cc2-dd13-861feff6c359"
      },
      "execution_count": 2,
      "outputs": [
        {
          "output_type": "execute_result",
          "data": {
            "text/plain": [
              "17"
            ]
          },
          "metadata": {},
          "execution_count": 2
        }
      ]
    },
    {
      "cell_type": "code",
      "source": [
        "# This will convert 200 minutes to hours by dividing by 60\n",
        "200 * 60"
      ],
      "metadata": {
        "colab": {
          "base_uri": "https://localhost:8080/"
        },
        "id": "wM4q9eXGg4RO",
        "outputId": "05654963-e017-4f6a-d604-237c1fa987f1"
      },
      "execution_count": 3,
      "outputs": [
        {
          "output_type": "execute_result",
          "data": {
            "text/plain": [
              "12000"
            ]
          },
          "metadata": {},
          "execution_count": 3
        }
      ]
    },
    {
      "cell_type": "markdown",
      "source": [
        "**Objectives**\n",
        "- List popular languages for Data Science\n",
        "- List popular tools for Data Science\n",
        "- List of commonly used libraries in Data Science\n",
        "- Examples of arithmetic expressions\n"
      ],
      "metadata": {
        "id": "NyRX8Lg1hG0k"
      }
    },
    {
      "cell_type": "markdown",
      "source": [
        "## Author\n",
        "Thanh To\n"
      ],
      "metadata": {
        "id": "m99QP-GihhMF"
      }
    },
    {
      "cell_type": "code",
      "source": [],
      "metadata": {
        "id": "3CYeqcNlhq55"
      },
      "execution_count": null,
      "outputs": []
    }
  ]
}